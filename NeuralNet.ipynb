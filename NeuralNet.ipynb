{
 "cells": [
  {
   "cell_type": "markdown",
   "metadata": {},
   "source": [
    "### Neural Network"
   ]
  },
  {
   "cell_type": "code",
   "execution_count": 394,
   "metadata": {},
   "outputs": [],
   "source": [
    "#imports\n",
    "import numpy as np\n",
    "import matplotlib.pyplot as plt"
   ]
  },
  {
   "cell_type": "code",
   "execution_count": null,
   "metadata": {},
   "outputs": [],
   "source": []
  },
  {
   "cell_type": "markdown",
   "metadata": {},
   "source": [
    "### Activation functions and derivatives"
   ]
  },
  {
   "cell_type": "code",
   "execution_count": 395,
   "metadata": {},
   "outputs": [],
   "source": [
    "# Used activation functions\n",
    "def sigmoid(x):\n",
    "    return 1/(1+np.exp(-x))\n",
    "def derivative_sigmoid(x):\n",
    "    return np.multiply(sigmoid(x),(1-sigmoid(x)))\n",
    "\n",
    "def softmax(x):\n",
    "    return np.exp(x)/np.mat((np.sum(np.exp(x),axis = 1))).T\n",
    "def derivative_softmax(x):\n",
    "    term1 = ((np.mat(np.sum(np.exp(x),axis = 1)).T - np.exp(x))/np.exp(x))\n",
    "    term2 = np.multiply(sigmoid(x),sigmoid(x))\n",
    "    ret = np.multiply(term1,term2)\n",
    "    temp = np.ones((np.shape(x)[0],np.shape(x)[1]))\n",
    "    return ret"
   ]
  },
  {
   "cell_type": "code",
   "execution_count": null,
   "metadata": {},
   "outputs": [],
   "source": []
  },
  {
   "cell_type": "markdown",
   "metadata": {},
   "source": [
    "### One Hot encoding"
   ]
  },
  {
   "cell_type": "code",
   "execution_count": 396,
   "metadata": {},
   "outputs": [],
   "source": [
    "# Conversion to one hot vector\n",
    "def one_hot(y, out_shape):\n",
    "    n = np.shape(y)[0]\n",
    "    y_oht = np.zeros((n,out_shape))\n",
    "    y_oht[np.arange(n), y] = 1\n",
    "    return y_oht"
   ]
  },
  {
   "cell_type": "code",
   "execution_count": null,
   "metadata": {},
   "outputs": [],
   "source": []
  },
  {
   "cell_type": "markdown",
   "metadata": {},
   "source": [
    "### Implementing Network"
   ]
  },
  {
   "cell_type": "code",
   "execution_count": 397,
   "metadata": {},
   "outputs": [],
   "source": [
    "# Neural Network\n",
    "class Net:\n",
    "    def __init__(self, n_features, size_l1, size_l2):\n",
    "        #initialisation of network parameters\n",
    "        self.output_size = 2\n",
    "        self.layers = [size_l1,size_l2]\n",
    "        self.size_l0 = n_features\n",
    "        self.layer = {}\n",
    "        self.layer['w1'] = np.random.random((self.size_l0,size_l1))\n",
    "        self.layer['b1'] = np.random.random((1,size_l1))\n",
    "        self.layer['w2'] = np.random.random((size_l1,size_l2))\n",
    "        self.layer['b2'] = np.random.random((1,size_l2))\n",
    "        self.layer['w_out'] = np.random.random((size_l2,2))\n",
    "        self.layer['b_out'] = np.random.random((1,2))\n",
    "        \n",
    "    # Z-score noraalisation\n",
    "    def normalize(self, x_train):\n",
    "        x = (x_train - np.mat(np.mean(x_train,axis = 1)).T)/np.mat(np.std(x_train,axis = 1)).T\n",
    "        return x\n",
    "    \n",
    "    # Forward pass\n",
    "    def forward(self):\n",
    "        self.z1 = np.dot(self.x, self.layer['w1']) + self.layer['b1']\n",
    "        self.a1 = sigmoid(self.z1)\n",
    "        \n",
    "        self.z2 = np.dot(self.a1, self.layer['w2']) + self.layer['b2']\n",
    "        self.a2 = sigmoid(self.z2)\n",
    "    \n",
    "        self.z_out = np.dot(self.a2, self.layer['w_out']) + self.layer['b_out']\n",
    "        self.a_out = softmax(self.z_out)\n",
    "        \n",
    "        # Average loss(cost)\n",
    "        l = np.mean(np.sum((np.multiply((self.y - self.a_out),(self.y - self.a_out))), axis = 1), axis = 0)\n",
    "        return l[0][0]\n",
    "    \n",
    "    # Backpropagation\n",
    "    def backward(self):\n",
    "        \n",
    "        delta3 = -2*(self.y - self.a_out)\n",
    "        temp = np.multiply(delta3,derivative_softmax(self.z_out))\n",
    "        dw3 = np.dot(self.a2.T, temp)/float(np.shape(self.x)[0])\n",
    "        db3 = np.mean(temp, axis = 0)\n",
    "        \n",
    "        delta2 = np.dot(delta3, self.layer['w_out'].T)\n",
    "        temp = np.multiply(delta2,derivative_sigmoid(self.z2))\n",
    "        dw2 = np.dot(self.a1.T, temp)/float(np.shape(self.x)[0])\n",
    "        db2 = np.mean(temp, axis = 0)\n",
    "        \n",
    "        delta1 = np.dot(delta2, self.layer['w2'].T)\n",
    "        temp = np.multiply(delta1,derivative_sigmoid(self.z1))\n",
    "        dw1 = np.dot(self.x.T, temp)/float(np.shape(self.x)[0])\n",
    "        db1 = np.mean(temp,axis = 0)\n",
    "        \n",
    "        lr = self.learning_rate\n",
    "        \n",
    "        # Changing weights \n",
    "        self.layer['w_out'] -= lr*dw3\n",
    "        self.layer['b_out'] -= lr*db3\n",
    "        self.layer['w2'] -= lr*dw2\n",
    "        self.layer['b2'] -= lr*db2\n",
    "        self.layer['w1'] -= lr*dw1\n",
    "        self.layer['b1'] -= lr*db1\n",
    "    \n",
    "    # Training function\n",
    "    def train(self,x_train,y_train,learning_rate, epochs):\n",
    "        self.x = x_train\n",
    "        self.y = one_hot(y_train,self.output_size)\n",
    "        self.learning_rate = learning_rate\n",
    "        loss = []\n",
    "        \n",
    "        for e in range(epochs):\n",
    "            l = self.forward()\n",
    "            loss.append(l)\n",
    "            self.backward()\n",
    "        loss = np.reshape(loss,(-1))\n",
    "        \n",
    "        return loss\n",
    "    \n",
    "    #Prediction\n",
    "    def predict(self):\n",
    "        self.y_pred = np.argmax(self.a_out, axis = 1)\n",
    "        self.y_pred = np.reshape(self.y_pred,(-1))\n",
    "        return self.y_pred\n",
    "        "
   ]
  },
  {
   "cell_type": "code",
   "execution_count": null,
   "metadata": {},
   "outputs": [],
   "source": []
  },
  {
   "cell_type": "markdown",
   "metadata": {},
   "source": [
    "### Importing Training Data"
   ]
  },
  {
   "cell_type": "code",
   "execution_count": 405,
   "metadata": {},
   "outputs": [],
   "source": [
    "from sklearn.datasets import make_blobs, make_moons"
   ]
  },
  {
   "cell_type": "code",
   "execution_count": 399,
   "metadata": {},
   "outputs": [
    {
     "data": {
      "text/plain": [
       "<matplotlib.collections.PathCollection at 0x7fb5b3d7a9d0>"
      ]
     },
     "execution_count": 399,
     "metadata": {},
     "output_type": "execute_result"
    },
    {
     "data": {
      "image/png": "[encoded data removed]",
      "text/plain": [
       "<Figure size 432x288 with 1 Axes>"
      ]
     },
     "metadata": {
      "needs_background": "light"
     },
     "output_type": "display_data"
    }
   ],
   "source": [
    "# Formulation of training data\n",
    "X,Y = make_moons(n_samples = 200,noise = 0.1,random_state = 2)\n",
    "plt.scatter(X[:,0],X[:,1],c = Y)"
   ]
  },
  {
   "cell_type": "code",
   "execution_count": null,
   "metadata": {},
   "outputs": [],
   "source": []
  },
  {
   "cell_type": "markdown",
   "metadata": {},
   "source": [
    "### Training Network"
   ]
  },
  {
   "cell_type": "code",
   "execution_count": 400,
   "metadata": {},
   "outputs": [],
   "source": [
    "model = Net(2,10,5)"
   ]
  },
  {
   "cell_type": "code",
   "execution_count": 401,
   "metadata": {},
   "outputs": [],
   "source": [
    "loss = model.train(X,Y,0.1,5000)\n",
    "y_pred = model.predict()"
   ]
  },
  {
   "cell_type": "code",
   "execution_count": 402,
   "metadata": {},
   "outputs": [
    {
     "name": "stdout",
     "output_type": "stream",
     "text": [
      "[[0 0 1 1 1 0 1 0 1 0 0 0 0 1 1 1 0 1 1 0 0 0 0 1 1 1 0 0 0 1 1 0 1 0 0 0\n",
      "  1 1 1 0 1 1 1 1 0 1 0 1 1 1 1 0 0 1 0 0 0 1 1 1 0 1 0 0 1 0 1 0 0 1 1 1\n",
      "  1 0 1 1 1 1 1 1 1 0 1 1 0 1 0 1 0 1 0 1 1 1 0 0 1 0 0 1 1 1 1 1 0 1 0 0\n",
      "  0 1 0 1 1 1 0 1 1 1 1 0 0 0 0 0 0 1 1 1 0 0 0 1 0 0 0 0 0 0 0 1 0 1 0 0\n",
      "  1 0 0 0 0 0 1 1 1 1 0 1 0 0 1 1 0 0 0 1 1 1 0 0 0 0 1 0 0 0 0 0 0 1 1 0\n",
      "  1 0 1 1 1 0 0 0 1 0 1 1 1 0 0 0 0 0 0 1]]\n"
     ]
    }
   ],
   "source": [
    "print(y_pred)"
   ]
  },
  {
   "cell_type": "code",
   "execution_count": null,
   "metadata": {},
   "outputs": [],
   "source": []
  },
  {
   "cell_type": "markdown",
   "metadata": {},
   "source": [
    "### Training Accuracy"
   ]
  },
  {
   "cell_type": "code",
   "execution_count": 406,
   "metadata": {},
   "outputs": [
    {
     "name": "stdout",
     "output_type": "stream",
     "text": [
      "0.88\n"
     ]
    }
   ],
   "source": [
    "print(np.sum(y_pred == Y)/np.shape(Y)[0])"
   ]
  },
  {
   "cell_type": "code",
   "execution_count": null,
   "metadata": {},
   "outputs": [],
   "source": []
  },
  {
   "cell_type": "markdown",
   "metadata": {},
   "source": [
    "### Plotting Cost Function"
   ]
  },
  {
   "cell_type": "code",
   "execution_count": 404,
   "metadata": {},
   "outputs": [
    {
     "data": {
      "text/plain": [
       "[<matplotlib.lines.Line2D at 0x7fb5b47a9b50>]"
      ]
     },
     "execution_count": 404,
     "metadata": {},
     "output_type": "execute_result"
    },
    {
     "data": {
      "image/png": "[encoded data removed]",
      "text/plain": [
       "<Figure size 432x288 with 1 Axes>"
      ]
     },
     "metadata": {
      "needs_background": "light"
     },
     "output_type": "display_data"
    }
   ],
   "source": [
    "plt.plot(loss)"
   ]
  },
  {
   "cell_type": "code",
   "execution_count": null,
   "metadata": {},
   "outputs": [],
   "source": []
  },
  {
   "cell_type": "code",
   "execution_count": null,
   "metadata": {},
   "outputs": [],
   "source": []
  },
  {
   "cell_type": "code",
   "execution_count": null,
   "metadata": {},
   "outputs": [],
   "source": []
  },
  {
   "cell_type": "code",
   "execution_count": null,
   "metadata": {},
   "outputs": [],
   "source": []
  }
 ],
 "metadata": {
  "kernelspec": {
   "display_name": "Python 3",
   "language": "python",
   "name": "python3"
  },
  "language_info": {
   "codemirror_mode": {
    "name": "ipython",
    "version": 3
   },
   "file_extension": ".py",
   "mimetype": "text/x-python",
   "name": "python",
   "nbconvert_exporter": "python",
   "pygments_lexer": "ipython3",
   "version": "3.8.5"
  }
 },
 "nbformat": 4,
 "nbformat_minor": 4
}
